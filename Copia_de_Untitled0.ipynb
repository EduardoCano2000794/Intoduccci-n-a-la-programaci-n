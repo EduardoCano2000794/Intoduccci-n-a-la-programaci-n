{
  "nbformat": 4,
  "nbformat_minor": 0,
  "metadata": {
    "colab": {
      "provenance": [],
      "authorship_tag": "ABX9TyPTtguj06gJRYh/sJkPiLX1",
      "include_colab_link": true
    },
    "kernelspec": {
      "name": "python3",
      "display_name": "Python 3"
    },
    "language_info": {
      "name": "python"
    }
  },
  "cells": [
    {
      "cell_type": "markdown",
      "metadata": {
        "id": "view-in-github",
        "colab_type": "text"
      },
      "source": [
        "<a href=\"https://colab.research.google.com/github/EduardoCano2000794/Intoduccci-n-a-la-programaci-n/blob/main/Copia_de_Untitled0.ipynb\" target=\"_parent\"><img src=\"https://colab.research.google.com/assets/colab-badge.svg\" alt=\"Open In Colab\"/></a>"
      ]
    },
    {
      "cell_type": "code",
      "execution_count": null,
      "metadata": {
        "id": "8XkwPBMc_SsW"
      },
      "outputs": [],
      "source": [
        "0##Ejercicio Individual1 \n"
      ]
    },
    {
      "cell_type": "markdown",
      "source": [
        "<font color =red> ejercicio indiciau"
      ],
      "metadata": {
        "id": "40uSMagWDSb7"
      }
    },
    {
      "cell_type": "code",
      "source": [
        "from google.colab import drive\n",
        "drive.mount('/content/drive')"
      ],
      "metadata": {
        "id": "RIrtZp4nHXVq"
      },
      "execution_count": null,
      "outputs": []
    },
    {
      "cell_type": "code",
      "source": [
        "Nombre = \"Eduardo Cano\"\n",
        "lugar_naci = \"Monterrey\"\n",
        "Edad = \"18\"\n",
        "peli_fav = \"red social\" "
      ],
      "metadata": {
        "id": "9IrwgpnpEGp9"
      },
      "execution_count": null,
      "outputs": []
    },
    {
      "cell_type": "code",
      "source": [
        "##type(nombre)\n",
        "##type(lugar_naci)\n",
        "##type(edad)\n",
        "##type(peli_fav)"
      ],
      "metadata": {
        "id": "wrKpAQvbFKqv"
      },
      "execution_count": null,
      "outputs": []
    },
    {
      "cell_type": "code",
      "source": [
        "nombre = input(\"hola como te llamad \")"
      ],
      "metadata": {
        "id": "GdcLXRgyFkgY"
      },
      "execution_count": null,
      "outputs": []
    },
    {
      "cell_type": "code",
      "source": [
        "(14)print(nombre)\n",
        "Eduardo Cano "
      ],
      "metadata": {
        "id": "j-AgoDXmF4yJ"
      },
      "execution_count": null,
      "outputs": []
    },
    {
      "cell_type": "code",
      "source": [
        "nombre = input (\"Hola como te llamad )\n",
        "edad = input (\"hola cuantos años timees\")\n",
        "lugar_naci = input (\"Donde naviste \")\n",
        "peli_fav = input (\"Cual es tu pelicula favorita \")"
      ],
      "metadata": {
        "id": "Bz1_BW3fGpdp"
      },
      "execution_count": null,
      "outputs": []
    },
    {
      "cell_type": "code",
      "source": [
        "print(\"hola mucho gusto me llamo julio \""
      ],
      "metadata": {
        "id": "lmeaXD90H_Vu"
      },
      "execution_count": null,
      "outputs": []
    },
    {
      "cell_type": "code",
      "source": [
        "print (\"hola tengo 19 años \")"
      ],
      "metadata": {
        "id": "YbpBCrtcIRvN"
      },
      "execution_count": null,
      "outputs": []
    },
    {
      "cell_type": "code",
      "source": [
        "print (\"naci en monterrey \")"
      ],
      "metadata": {
        "id": "ckZGgABZIW16"
      },
      "execution_count": null,
      "outputs": []
    },
    {
      "cell_type": "code",
      "source": [
        "print (\"mi pelicula favorita es it \")"
      ],
      "metadata": {
        "id": "yK0BuO-6JXsc"
      },
      "execution_count": null,
      "outputs": []
    },
    {
      "cell_type": "code",
      "source": [
        "print \"hola mucho gusto\"nombre,\"interesante la pelicula de (\"peli_fav)\n",
        "print \"nunca he viajado para alla me encantaria visitarla"
      ],
      "metadata": {
        "id": "Ioomx1dnJnHa"
      },
      "execution_count": null,
      "outputs": []
    },
    {
      "cell_type": "code",
      "source": [
        "edadx12\n",
        "type (edad)"
      ],
      "metadata": {
        "id": "8A10idnDNaQ9"
      },
      "execution_count": null,
      "outputs": []
    },
    {
      "cell_type": "code",
      "source": [
        "edad = input (\"Cual es tu edad \")\n",
        "edad = int(edad)"
      ],
      "metadata": {
        "id": "Nc05_lzhNfSI"
      },
      "execution_count": null,
      "outputs": []
    },
    {
      "cell_type": "markdown",
      "source": [],
      "metadata": {
        "id": "Rj07jq5-N14m"
      }
    },
    {
      "cell_type": "code",
      "source": [
        "edad_meses = edadenaños x 12\n",
        "edad_endias = edaddenamos x365\n",
        "Print (\"Tu edad es de\"), edad_enmeses,\"meses\"\n",
        "Print (\"Tu edad es de \"),edadendias, \"dias\"\n",
        "Print (\"Tu edad es de \") , edadenhoras \"horas\""
      ],
      "metadata": {
        "id": "656tel7NSaI5"
      },
      "execution_count": null,
      "outputs": []
    },
    {
      "cell_type": "markdown",
      "source": [],
      "metadata": {
        "id": "3VY83lqVDI8U"
      }
    }
  ]
}